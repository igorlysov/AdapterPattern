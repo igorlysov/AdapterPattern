{
  "nbformat": 4,
  "nbformat_minor": 0,
  "metadata": {
    "colab": {
      "name": "Task 1137.ipynb",
      "provenance": [],
      "collapsed_sections": [],
      "authorship_tag": "ABX9TyPLu1pev0nd+QH2dKkzTID8",
      "include_colab_link": true
    },
    "kernelspec": {
      "name": "python3",
      "display_name": "Python 3"
    },
    "language_info": {
      "name": "python"
    }
  },
  "cells": [
    {
      "cell_type": "markdown",
      "metadata": {
        "id": "view-in-github",
        "colab_type": "text"
      },
      "source": [
        "<a href=\"https://colab.research.google.com/github/igorlysov/AdapterPattern/blob/master/solutions/Task_1137.ipynb\" target=\"_parent\"><img src=\"https://colab.research.google.com/assets/colab-badge.svg\" alt=\"Open In Colab\"/></a>"
      ]
    },
    {
      "cell_type": "code",
      "execution_count": null,
      "metadata": {
        "id": "IngV4E0HPgJo"
      },
      "outputs": [],
      "source": [
        "\"\"\"\n",
        "Easy: 1137. N-th Tribonacci Number\n",
        "\n",
        "The Tribonacci sequence T(n) is defined as follows: \n",
        "T(0) = 0, T(1) = 1, T(2) = 1, and T(n) = T(n - 3) + T(n - 2) + T(n - 1) for n >= 0.\n",
        "Given n, return the value of T(n).\n",
        "\n",
        "Ideas:\n",
        "Use the same approach as with the Fibonacci Numbers\n",
        "It gives us: O(n) time complexity, O(1) space complexity\n",
        "\"\"\"\n",
        "def tribonacci(n: int) -> int:\n",
        "        if n <= 1:\n",
        "            return n\n",
        "        if n == 2:\n",
        "            return 1\n",
        "        current_number = 0\n",
        "        previous_1 = 1\n",
        "        previous_2 = 1\n",
        "        previous_3 = 0\n",
        "        for i in range(3, n + 1):\n",
        "            current_number = previous_1 + previous_2 + previous_3\n",
        "            previous_3 = previous_2\n",
        "            previous_2 = previous_1\n",
        "            previous_1 = current_number\n",
        "        return current_number"
      ]
    }
  ]
}